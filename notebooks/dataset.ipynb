{
 "cells": [
  {
   "cell_type": "code",
   "execution_count": 2,
   "metadata": {},
   "outputs": [],
   "source": [
    "import pandas as pd"
   ]
  },
  {
   "cell_type": "markdown",
   "metadata": {},
   "source": []
  },
  {
   "cell_type": "markdown",
   "metadata": {},
   "source": [
    "# Make Splits and processing"
   ]
  },
  {
   "cell_type": "code",
   "execution_count": 4,
   "metadata": {},
   "outputs": [],
   "source": [
    "from sklearn.model_selection import train_test_split"
   ]
  },
  {
   "cell_type": "code",
   "execution_count": 5,
   "metadata": {},
   "outputs": [],
   "source": [
    "l1='en'\n",
    "l2='es'"
   ]
  },
  {
   "cell_type": "code",
   "execution_count": 6,
   "metadata": {},
   "outputs": [],
   "source": [
    "import pandas as pd"
   ]
  },
  {
   "cell_type": "code",
   "execution_count": 7,
   "metadata": {},
   "outputs": [],
   "source": [
    "df=pd.read_csv(f'data/{l1}_{l2}_dataset.csv')"
   ]
  },
  {
   "cell_type": "code",
   "execution_count": 8,
   "metadata": {},
   "outputs": [
    {
     "data": {
      "text/html": [
       "<div>\n",
       "<style scoped>\n",
       "    .dataframe tbody tr th:only-of-type {\n",
       "        vertical-align: middle;\n",
       "    }\n",
       "\n",
       "    .dataframe tbody tr th {\n",
       "        vertical-align: top;\n",
       "    }\n",
       "\n",
       "    .dataframe thead th {\n",
       "        text-align: right;\n",
       "    }\n",
       "</style>\n",
       "<table border=\"1\" class=\"dataframe\">\n",
       "  <thead>\n",
       "    <tr style=\"text-align: right;\">\n",
       "      <th></th>\n",
       "      <th>ID</th>\n",
       "      <th>en</th>\n",
       "      <th>en_meaning</th>\n",
       "      <th>es</th>\n",
       "      <th>es_meaning</th>\n",
       "      <th>type</th>\n",
       "      <th>lexical_category</th>\n",
       "    </tr>\n",
       "  </thead>\n",
       "  <tbody>\n",
       "    <tr>\n",
       "      <th>0</th>\n",
       "      <td>1</td>\n",
       "      <td>nature</td>\n",
       "      <td>the external world in its entirety</td>\n",
       "      <td>naturaleza</td>\n",
       "      <td>The set of everything that exists and that is ...</td>\n",
       "      <td>COGNATE</td>\n",
       "      <td>N</td>\n",
       "    </tr>\n",
       "    <tr>\n",
       "      <th>1</th>\n",
       "      <td>2</td>\n",
       "      <td>culture</td>\n",
       "      <td>the customary beliefs, social forms, and mater...</td>\n",
       "      <td>cultura</td>\n",
       "      <td>Set of ways of life and customs , knowledge an...</td>\n",
       "      <td>COGNATE</td>\n",
       "      <td>N</td>\n",
       "    </tr>\n",
       "    <tr>\n",
       "      <th>2</th>\n",
       "      <td>3</td>\n",
       "      <td>restaurant</td>\n",
       "      <td>a business establishment where meals or refres...</td>\n",
       "      <td>restaurante</td>\n",
       "      <td>Public establishment where food and drinks are...</td>\n",
       "      <td>COGNATE</td>\n",
       "      <td>N</td>\n",
       "    </tr>\n",
       "    <tr>\n",
       "      <th>3</th>\n",
       "      <td>4</td>\n",
       "      <td>traffic</td>\n",
       "      <td>the vehicles, pedestrians, ships, or planes mo...</td>\n",
       "      <td>tráfico</td>\n",
       "      <td>Movement or transit of people , goods , etc., ...</td>\n",
       "      <td>COGNATE</td>\n",
       "      <td>N</td>\n",
       "    </tr>\n",
       "    <tr>\n",
       "      <th>4</th>\n",
       "      <td>5</td>\n",
       "      <td>tourist</td>\n",
       "      <td>one that makes a tour for pleasure or culture</td>\n",
       "      <td>turista</td>\n",
       "      <td>To trade , to negotiate with money and goods.</td>\n",
       "      <td>COGNATE</td>\n",
       "      <td>N</td>\n",
       "    </tr>\n",
       "  </tbody>\n",
       "</table>\n",
       "</div>"
      ],
      "text/plain": [
       "   ID          en                                         en_meaning  \\\n",
       "0   1      nature                 the external world in its entirety   \n",
       "1   2     culture  the customary beliefs, social forms, and mater...   \n",
       "2   3  restaurant  a business establishment where meals or refres...   \n",
       "3   4     traffic  the vehicles, pedestrians, ships, or planes mo...   \n",
       "4   5     tourist      one that makes a tour for pleasure or culture   \n",
       "\n",
       "            es                                         es_meaning     type  \\\n",
       "0   naturaleza  The set of everything that exists and that is ...  COGNATE   \n",
       "1      cultura  Set of ways of life and customs , knowledge an...  COGNATE   \n",
       "2  restaurante  Public establishment where food and drinks are...  COGNATE   \n",
       "3      tráfico  Movement or transit of people , goods , etc., ...  COGNATE   \n",
       "4      turista      To trade , to negotiate with money and goods.  COGNATE   \n",
       "\n",
       "  lexical_category  \n",
       "0                N  \n",
       "1                N  \n",
       "2                N  \n",
       "3                N  \n",
       "4                N  "
      ]
     },
     "execution_count": 8,
     "metadata": {},
     "output_type": "execute_result"
    }
   ],
   "source": [
    "df.head()"
   ]
  },
  {
   "cell_type": "code",
   "execution_count": 9,
   "metadata": {},
   "outputs": [],
   "source": [
    "def remove_space(x):\n",
    "    x=x.replace('\\n','')\n",
    "    x=x.strip('.')\n",
    "    x=x.strip()\n",
    "    x=x+'.'\n",
    "    x=x.lower()\n",
    "    x=x.replace(' , ',', ')\n",
    "    x=x.replace(\" '\",\"'\")\n",
    "    return x.capitalize()"
   ]
  },
  {
   "cell_type": "code",
   "execution_count": 10,
   "metadata": {},
   "outputs": [],
   "source": [
    "df[f'{l2}_meaning']=df[f'{l2}_meaning'].apply(remove_space)\n",
    "df[f'{l1}_meaning']=df[f'{l1}_meaning'].apply(remove_space)"
   ]
  },
  {
   "cell_type": "code",
   "execution_count": 11,
   "metadata": {},
   "outputs": [
    {
     "name": "stderr",
     "output_type": "stream",
     "text": [
      "/home/eshaan/multilingual-cognates/.venv/lib/python3.10/site-packages/sentence_transformers/cross_encoder/CrossEncoder.py:11: TqdmWarning: IProgress not found. Please update jupyter and ipywidgets. See https://ipywidgets.readthedocs.io/en/stable/user_install.html\n",
      "  from tqdm.autonotebook import tqdm, trange\n"
     ]
    }
   ],
   "source": [
    "from sentence_transformers import SentenceTransformer\n",
    "SENTENCE_TRANSFORMER_PATH='/home/models/all-MiniLM-L6-v2'\n",
    "model = SentenceTransformer(SENTENCE_TRANSFORMER_PATH)"
   ]
  },
  {
   "cell_type": "code",
   "execution_count": 12,
   "metadata": {},
   "outputs": [],
   "source": [
    "l1_meaning=df[f'{l1}_meaning'].to_list()\n",
    "l2_meaning=df[f'{l2}_meaning'].to_list()\n",
    "word_type=df['type'].to_list()"
   ]
  },
  {
   "cell_type": "code",
   "execution_count": 13,
   "metadata": {},
   "outputs": [
    {
     "data": {
      "text/plain": [
       "420"
      ]
     },
     "execution_count": 13,
     "metadata": {},
     "output_type": "execute_result"
    }
   ],
   "source": [
    "len(word_type)"
   ]
  },
  {
   "cell_type": "code",
   "execution_count": 14,
   "metadata": {},
   "outputs": [],
   "source": [
    "def find_negative_samples(meaning):\n",
    "    embeddings=model.encode(meaning)\n",
    "    similarities=model.similarity(embeddings,embeddings)\n",
    "    negative_sample_index=[]\n",
    "    for sim in similarities:\n",
    "        similarity=sim.clone()\n",
    "        index_samples=(similarity>=0.6).nonzero().squeeze()\n",
    "        similarity[index_samples]=-float('inf')\n",
    "        negative_samples=similarity.argmax().item()\n",
    "        negative_sample_index.append(negative_samples)\n",
    "    return [meaning[i] for i in negative_sample_index]"
   ]
  },
  {
   "cell_type": "code",
   "execution_count": 15,
   "metadata": {},
   "outputs": [],
   "source": [
    "l1_neg_meaning=find_negative_samples(l1_meaning)\n",
    "l2_neg_meaning=find_negative_samples(l2_meaning)"
   ]
  },
  {
   "cell_type": "code",
   "execution_count": 16,
   "metadata": {},
   "outputs": [],
   "source": [
    "def get_negative_samples(neg_sampll2_meaning,l2_meaning,word_type):\n",
    "    neg=[]\n",
    "    for i,wt in enumerate(word_type):\n",
    "        if wt=='FALSE COGNATE':\n",
    "            neg.append(l2_meaning[i])\n",
    "        else:\n",
    "            neg.append(neg_sampll2_meaning[i])\n",
    "    return neg"
   ]
  },
  {
   "cell_type": "code",
   "execution_count": 17,
   "metadata": {},
   "outputs": [],
   "source": [
    "df[f'{l1}_neg_meaning']=get_negative_samples(l1_neg_meaning,l2_meaning,word_type)\n",
    "df[f'{l2}_neg_meaning']=get_negative_samples(l2_neg_meaning,l1_meaning,word_type)"
   ]
  },
  {
   "cell_type": "code",
   "execution_count": 18,
   "metadata": {},
   "outputs": [],
   "source": [
    "df.to_csv(f'data/{l1}_{l2}_processed.csv')"
   ]
  },
  {
   "cell_type": "code",
   "execution_count": 19,
   "metadata": {},
   "outputs": [],
   "source": [
    "df=pd.read_csv(f'data/{l1}_{l2}_processed.csv')"
   ]
  },
  {
   "cell_type": "code",
   "execution_count": 20,
   "metadata": {},
   "outputs": [],
   "source": [
    "test_df,train_df=train_test_split(df,test_size=0.05,random_state=1,stratify=df['type'])"
   ]
  },
  {
   "cell_type": "code",
   "execution_count": 21,
   "metadata": {},
   "outputs": [
    {
     "data": {
      "text/plain": [
       "399"
      ]
     },
     "execution_count": 21,
     "metadata": {},
     "output_type": "execute_result"
    }
   ],
   "source": [
    "len(test_df)"
   ]
  },
  {
   "cell_type": "code",
   "execution_count": 22,
   "metadata": {},
   "outputs": [
    {
     "data": {
      "text/plain": [
       "21"
      ]
     },
     "execution_count": 22,
     "metadata": {},
     "output_type": "execute_result"
    }
   ],
   "source": [
    "len(train_df)"
   ]
  },
  {
   "cell_type": "code",
   "execution_count": 23,
   "metadata": {},
   "outputs": [
    {
     "data": {
      "text/plain": [
       "Index(['Unnamed: 0', 'ID', 'en', 'en_meaning', 'es', 'es_meaning', 'type',\n",
       "       'lexical_category', 'en_neg_meaning', 'es_neg_meaning'],\n",
       "      dtype='object')"
      ]
     },
     "execution_count": 23,
     "metadata": {},
     "output_type": "execute_result"
    }
   ],
   "source": [
    "test_df.columns"
   ]
  },
  {
   "cell_type": "code",
   "execution_count": 24,
   "metadata": {},
   "outputs": [
    {
     "data": {
      "text/plain": [
       "type\n",
       "COGNATE          133\n",
       "FALSE COGNATE    133\n",
       "NON COGNATE      133\n",
       "Name: count, dtype: int64"
      ]
     },
     "execution_count": 24,
     "metadata": {},
     "output_type": "execute_result"
    }
   ],
   "source": [
    "test_df['type'].value_counts()"
   ]
  },
  {
   "cell_type": "code",
   "execution_count": 25,
   "metadata": {},
   "outputs": [],
   "source": [
    "train_path=f'data/{l1}_{l2}_train.csv'\n",
    "test_path=f'data/{l1}_{l2}_test.csv'"
   ]
  },
  {
   "cell_type": "code",
   "execution_count": 26,
   "metadata": {},
   "outputs": [],
   "source": [
    "train_df.to_csv(train_path)\n",
    "test_df.to_csv(test_path)"
   ]
  },
  {
   "cell_type": "code",
   "execution_count": 27,
   "metadata": {},
   "outputs": [
    {
     "data": {
      "text/plain": [
       "399"
      ]
     },
     "execution_count": 27,
     "metadata": {},
     "output_type": "execute_result"
    }
   ],
   "source": [
    "len(test_df)"
   ]
  },
  {
   "cell_type": "code",
   "execution_count": 28,
   "metadata": {},
   "outputs": [
    {
     "data": {
      "text/plain": [
       "21"
      ]
     },
     "execution_count": 28,
     "metadata": {},
     "output_type": "execute_result"
    }
   ],
   "source": [
    "len(train_df)"
   ]
  },
  {
   "cell_type": "code",
   "execution_count": null,
   "metadata": {},
   "outputs": [],
   "source": []
  }
 ],
 "metadata": {
  "kernelspec": {
   "display_name": ".venv",
   "language": "python",
   "name": "python3"
  },
  "language_info": {
   "codemirror_mode": {
    "name": "ipython",
    "version": 3
   },
   "file_extension": ".py",
   "mimetype": "text/x-python",
   "name": "python",
   "nbconvert_exporter": "python",
   "pygments_lexer": "ipython3",
   "version": "3.10.6"
  }
 },
 "nbformat": 4,
 "nbformat_minor": 2
}
